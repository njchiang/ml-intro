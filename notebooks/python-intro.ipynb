{
 "cells": [
  {
   "cell_type": "markdown",
   "metadata": {},
   "source": [
    "# Brief Python introduction"
   ]
  },
  {
   "cell_type": "markdown",
   "metadata": {},
   "source": [
    "## About python\n",
    "Python is an interpreted, object-oriented language with a great set of built-in data structures and simple syntax. In this tutorial, we will cover some basics to get you up and running with Python. The majority of the course will focus on scientific computing in python (numpy, scipy, matplotlib)\n",
    "\n",
    "Please note that we will be using Python 3.6.X. Support for Python 2 is ending soon so it's not worth relearning idiosyncratic differences between the two."
   ]
  },
  {
   "cell_type": "markdown",
   "metadata": {},
   "source": [
    "## Installation\n",
    "\n",
    "We are assuming previous python knowledge, so you should have some working installation. However, some installation methods are preferred over others. The most convenient by far is to install the cross-platform Anaconda (https://www.anaconda.com/what-is-anaconda/ - personally I prefer Miniconda to save some disk space). \n",
    "\n",
    "I recommend that Windows users in data science use Anaconda/Miniconda. There are many intricacies with settings paths in Windows that the Anaconda installation automatically takes care of.\n",
    "\n",
    "Mac users should take care to not use the default system python when developing. You can install newer versions of python using Anaconda or the homebrew utility (https://brew.sh/). More advanced users can use homebrew to install `pyenv` (https://github.com/pyenv/pyenv), which also takes care of version management.\n",
    "\n",
    "Linux users can also install Anaconda and Miniconda, and have access to python3 using aptitude (apt-get). I also recommend pyenv or Anaconda to easily manage python versions."
   ]
  },
  {
   "cell_type": "markdown",
   "metadata": {},
   "source": [
    "## Environments\n",
    "\n",
    "### Python console\n",
    "\n",
    "Assuming that Python is installed on your computer, you can invoke the Python interpreter by running `python` from the command line. There it is possible to issue Python commands one at a time and see their output immediately. For example, you could do something like the following:\n",
    "    \n",
    "    >>> 1 + 2\n",
    "    3\n",
    "    >>>\n",
    "    \n",
    "### Python scripts\n",
    "\n",
    "You can also write some lines of Python code in a text file, say `source.py`, and run that *script* by running `python source.py` from the command line. Some of the homework assignments will be in this format.\n",
    "\n",
    "### Jupyter notebooks\n",
    "\n",
    "In our labs, instead of the command line interpreter invoked by `python`, we will be using a versatile interactive shell for running Python commands and scripts known as Jupyter Notebook (previously known as IPython Notebook). It works much like the command line `python` interpreter in that it reads code (written into *cells*) and prints output as soon as the commands are executed, but it also allows us to embed graphics, write Markdown documentation (like this!), go back to already executed code and re-run it and so on.\n",
    "\n",
    "For now, the important thing to know is that Jupyter Notebook is started from the command line with `jupyter notebook`, that commands are added to cells which can be executed with *SHIFT+ENTER*, and that you can add new cells anywhere within each notebook (press *ESC+b* or *ESC+f* to add a cell before and after the current cell, respectively).\n",
    "\n",
    "All of the exercises in this course will be written in the jupyter notebook, so it's very important that it is installed and working properly. It can be installed using pip or conda via the following:\n",
    "\n",
    "`pip install -U jupyter`\n",
    "\n",
    "`conda install jupyter`\n",
    "\n",
    "### Virtualenvs\n",
    "\n",
    "While we don't have time to cover vitualenvs in this course, it is good practice to use virtualenvs (virtual environments) to ensure all of your projects' dependencies are well organized. While virtualenvs were originally a user-created project, as of 3.3, virtualenv has been integrated to the default python and named \"venv\". See https://docs.python.org/3/library/venv.html for more information. Essentially, the virtualenv shuffles around your environment variables so that the python-specific commands point to a specific version of python. Note that python environments (Anaconda and Pyenv) have their own methods for handling virtualenvs, so you should use their tools if you're on their platform.\n",
    "\n",
    "Anaconda: `conda env create VIRTUALENV_NAME`\n",
    "\n",
    "Pyenv: `pyenv create VIRTUALENV_NAME`\n",
    "\n",
    "Virtualenvs can then be activated using their `activate` script. Anaconda and pyenv handle it in the following way:\n",
    "Anaconda: `activate VIRTUALENV_NAME`\n",
    "\n",
    "pyenv: `pyenv activate VIRTUALENV_NAME`\n",
    "\n",
    "Finally, to exit your virtual environment, run `deactivate` in the command line.\n",
    "\n",
    "\n",
    "There are some tricks to getting the jupyter notebook to cleanly work with separate virtualenvs (you can always install it in each virtualenv, but that kind of defeats the purpose of a kernel). \n",
    "\n",
    "With your virtualenv activated, you can run \n",
    "\n",
    "`python -m ipykernel install --user --name=VIRTUALENV_NAME`\n",
    "\n",
    "Contact me or look at the specific virtualenv pages for more information on setup (it's a very personal process!)"
   ]
  },
  {
   "cell_type": "markdown",
   "metadata": {},
   "source": [
    "## Operators\n",
    "\n",
    "Basic arithmetic and logical operations work as you may expect. Try writing a simple arithmetic expression. (like a calculator)"
   ]
  },
  {
   "cell_type": "code",
   "execution_count": 1,
   "metadata": {},
   "outputs": [
    {
     "name": "stdout",
     "output_type": "stream",
     "text": [
      "None\n"
     ]
    }
   ],
   "source": [
    "# write a few basic operations here\n",
    "result = None\n",
    "print(result)"
   ]
  },
  {
   "cell_type": "code",
   "execution_count": 2,
   "metadata": {},
   "outputs": [
    {
     "name": "stdout",
     "output_type": "stream",
     "text": [
      "8\n"
     ]
    }
   ],
   "source": [
    "a = 5 + 3\n",
    "print(a)"
   ]
  },
  {
   "cell_type": "markdown",
   "metadata": {},
   "source": [
    "Instead of symbols like `&&` and `||`, Python uses keywords like `and` and `or` to manipulate boolean expressions: "
   ]
  },
  {
   "cell_type": "code",
   "execution_count": 3,
   "metadata": {},
   "outputs": [],
   "source": [
    "a = True\n",
    "b = False"
   ]
  },
  {
   "cell_type": "code",
   "execution_count": 4,
   "metadata": {},
   "outputs": [
    {
     "name": "stdout",
     "output_type": "stream",
     "text": [
      "True\n",
      "False\n"
     ]
    }
   ],
   "source": [
    "print(a or b)\n",
    "print(a and b)"
   ]
  },
  {
   "cell_type": "markdown",
   "metadata": {},
   "source": [
    "Variables do not have to be declared, so:"
   ]
  },
  {
   "cell_type": "code",
   "execution_count": 5,
   "metadata": {},
   "outputs": [
    {
     "name": "stdout",
     "output_type": "stream",
     "text": [
      "first variable holding a string\n"
     ]
    }
   ],
   "source": [
    "welcome_message = 'First variable holding a string'\n",
    "print(welcome_message.lower())"
   ]
  },
  {
   "cell_type": "code",
   "execution_count": 6,
   "metadata": {},
   "outputs": [
    {
     "name": "stdout",
     "output_type": "stream",
     "text": [
      "hi\n"
     ]
    }
   ],
   "source": [
    "a = 5\n",
    "a = 'hi'\n",
    "print(a)"
   ]
  },
  {
   "cell_type": "markdown",
   "metadata": {},
   "source": [
    "## Data Structures\n",
    "\n",
    "### Lists\n",
    "\n",
    "Lists are a sequence of items accessible as an array:"
   ]
  },
  {
   "cell_type": "code",
   "execution_count": 7,
   "metadata": {},
   "outputs": [
    {
     "name": "stdout",
     "output_type": "stream",
     "text": [
      "[]\n"
     ]
    }
   ],
   "source": [
    "list1 = []\n",
    "print(list1)"
   ]
  },
  {
   "cell_type": "markdown",
   "metadata": {},
   "source": [
    "There is nothing stopping you from mixing types in lists, and items in lists can be other lists, for instance:"
   ]
  },
  {
   "cell_type": "code",
   "execution_count": 8,
   "metadata": {},
   "outputs": [
    {
     "name": "stdout",
     "output_type": "stream",
     "text": [
      "[[1, 2, 3, 3], [1, 2, 3, 3]]\n"
     ]
    }
   ],
   "source": [
    "list1 = [1, 2, 3, 3]\n",
    "list2 = [list1, list1]\n",
    "print(list2)"
   ]
  },
  {
   "cell_type": "markdown",
   "metadata": {},
   "source": [
    "### Tuples\n",
    "\n",
    "Tuples are similar to lists, but they are *immutable*. That is, once created, you cannot change content. (We won't really encounter tuples in this course)"
   ]
  },
  {
   "cell_type": "markdown",
   "metadata": {},
   "source": [
    "### Sets\n",
    "\n",
    "Sets are unordered collections of unique items. That is, a set cannot contain duplicates!"
   ]
  },
  {
   "cell_type": "code",
   "execution_count": 9,
   "metadata": {},
   "outputs": [
    {
     "name": "stdout",
     "output_type": "stream",
     "text": [
      "{1, 2, 3}\n"
     ]
    }
   ],
   "source": [
    "set1 = set(list1)\n",
    "print(set1)"
   ]
  },
  {
   "cell_type": "markdown",
   "metadata": {},
   "source": [
    "### Dictionaries\n",
    "\n",
    "Finally, we have dictionaries which are unordered collections of key-value pairs. The key has to be immutable (a string, number, or tuple)."
   ]
  },
  {
   "cell_type": "code",
   "execution_count": 10,
   "metadata": {},
   "outputs": [
    {
     "name": "stdout",
     "output_type": "stream",
     "text": [
      "1\n"
     ]
    }
   ],
   "source": [
    "dict1 = {'one': 1, 'two': 2}\n",
    "print(dict1['one'])"
   ]
  },
  {
   "cell_type": "markdown",
   "metadata": {},
   "source": [
    "## Control Statements\n",
    "\n",
    "Python has simple indentation based syntax and powerful iteration tools for looping and program control. \n",
    "\n",
    "Note that indentation matters. There are no brackets like in C or Java, so you must indent \n",
    "statements to be on the same level (using some number of spaces or, less frequently, tabs per level)."
   ]
  },
  {
   "cell_type": "code",
   "execution_count": 11,
   "metadata": {},
   "outputs": [
    {
     "name": "stdout",
     "output_type": "stream",
     "text": [
      "0\n",
      "1\n",
      "2\n",
      "3\n",
      "4\n",
      "5\n",
      "6\n",
      "7\n",
      "8\n",
      "9\n",
      "[0, 1, 2, 3, 4, 5, 6, 7, 8, 9]\n"
     ]
    }
   ],
   "source": [
    "x = []\n",
    "for i in range(10):\n",
    "    x.append(i)\n",
    "    print(i)\n",
    "print(x)"
   ]
  },
  {
   "cell_type": "markdown",
   "metadata": {},
   "source": [
    "### Functions\n",
    "\n",
    "Defined using indentation as with control statements."
   ]
  },
  {
   "cell_type": "code",
   "execution_count": 12,
   "metadata": {},
   "outputs": [],
   "source": [
    "def counter(x):\n",
    "    out = []\n",
    "    for i in range(x):\n",
    "        out.append(i)\n",
    "    return out"
   ]
  },
  {
   "cell_type": "code",
   "execution_count": 13,
   "metadata": {},
   "outputs": [
    {
     "name": "stdout",
     "output_type": "stream",
     "text": [
      "[0, 1, 2, 3, 4, 5, 6, 7, 8, 9]\n"
     ]
    }
   ],
   "source": [
    "print(counter(10))"
   ]
  },
  {
   "cell_type": "markdown",
   "metadata": {},
   "source": [
    "## Classes and Modules\n",
    "\n",
    "We won't use object-oriented programming much, but it is easy and straightforward to declare classes in Python. We will explore these further when discussing scikit learn\n",
    "\n",
    "We will be using Modules much more often. While Python is extrememly flexible, it is inefficient to continue reinventing the wheel for common functionalities. Python makes it extremely easy to import and publish modules that do so. In fact, Numpy and Scipy (introduced later), which add MATLAB-like functionalities to Python, are simply giant modules."
   ]
  },
  {
   "cell_type": "markdown",
   "metadata": {
    "collapsed": true
   },
   "source": [
    "You can also import only specific parts of modules."
   ]
  },
  {
   "cell_type": "code",
   "execution_count": 14,
   "metadata": {},
   "outputs": [
    {
     "data": {
      "text/plain": [
       "1517260491.7674265"
      ]
     },
     "execution_count": 14,
     "metadata": {},
     "output_type": "execute_result"
    }
   ],
   "source": [
    "import time\n",
    "time.time()"
   ]
  },
  {
   "cell_type": "code",
   "execution_count": 15,
   "metadata": {},
   "outputs": [
    {
     "data": {
      "text/plain": [
       "1517260491.7818406"
      ]
     },
     "execution_count": 15,
     "metadata": {},
     "output_type": "execute_result"
    }
   ],
   "source": [
    "from time import time\n",
    "time()"
   ]
  },
  {
   "cell_type": "markdown",
   "metadata": {},
   "source": [
    "The simplest module you can create is one in which you save some functions to a text file, then import them as needed. A detailed description is available here: https://docs.python.org/3/tutorial/modules.html\n"
   ]
  },
  {
   "cell_type": "code",
   "execution_count": null,
   "metadata": {},
   "outputs": [],
   "source": []
  }
 ],
 "metadata": {
  "kernelspec": {
   "display_name": "teaching",
   "language": "python",
   "name": "teaching"
  },
  "language_info": {
   "codemirror_mode": {
    "name": "ipython",
    "version": 3
   },
   "file_extension": ".py",
   "mimetype": "text/x-python",
   "name": "python",
   "nbconvert_exporter": "python",
   "pygments_lexer": "ipython3",
   "version": "3.6.4"
  }
 },
 "nbformat": 4,
 "nbformat_minor": 1
}
