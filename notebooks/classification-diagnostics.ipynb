{
 "cells": [
  {
   "cell_type": "markdown",
   "metadata": {},
   "source": [
    "# Classification diagnostics using Logisitic Regression\n",
    "\n",
    "\n"
   ]
  },
  {
   "cell_type": "code",
   "execution_count": 1,
   "metadata": {},
   "outputs": [],
   "source": [
    "%matplotlib inline\n",
    "import numpy as np\n",
    "import matplotlib.pyplot as plt\n",
    "# from matplotlib.colors import ListedColormaprmap\n",
    "from matplotlib.colors import ListedColormap"
   ]
  },
  {
   "cell_type": "code",
   "execution_count": 2,
   "metadata": {},
   "outputs": [],
   "source": [
    "from sklearn.datasets import make_classification, make_moons\n",
    "from sklearn import preprocessing as preproc\n",
    "from sklearn import pipeline as pipe\n",
    "from sklearn import metrics\n",
    "from sklearn import model_selection as ms\n",
    "from sklearn.linear_model import LogisticRegression\n",
    "from sklearn.decomposition import PCA\n",
    "from sklearn.discriminant_analysis import LinearDiscriminantAnalysis\n",
    "\n",
    "# from sklearn import cross_validation"
   ]
  },
  {
   "cell_type": "code",
   "execution_count": 3,
   "metadata": {},
   "outputs": [],
   "source": [
    "# plotting colors\n",
    "cmap = ListedColormap([\"red\", \"blue\"])"
   ]
  },
  {
   "cell_type": "markdown",
   "metadata": {},
   "source": [
    "## Classification (Logistic Regression)\n",
    "\n",
    "We will use Logistic Regression to go over the basic framework of a classification workflow. In this example with simulated data, we will first preprocess (scale) the data, and train a Logistic Regression model. We will then use the fitted parameters on the \"test\" dataset to generate a prediction and examine the ROC and confusion matrices."
   ]
  },
  {
   "cell_type": "code",
   "execution_count": 4,
   "metadata": {},
   "outputs": [],
   "source": [
    "# Create a classification dataset\n",
    "X, y = make_classification(n_samples=1200, \n",
    "                       n_features=100, \n",
    "                       n_informative=10, \n",
    "                       random_state=41)\n",
    "# We will run all of our fitting on X_train and y_train\n",
    "X_train, X_test, y_train, y_test = ms.train_test_split(X, y, test_size=0.2)\n",
    "# We will save X_test and y_test for evaluation"
   ]
  },
  {
   "cell_type": "code",
   "execution_count": 5,
   "metadata": {},
   "outputs": [],
   "source": [
    "# Let's define a scaler that will z-score the data and save the mean and standard deviation.\n",
    "# fit it on X_train, an use it to transform both X_train and X_test\n",
    "from sklearn import preprocessing as preproc\n",
    "scaler = preproc.StandardScaler()\n",
    "scaler.fit(X_train)\n",
    "X_sc = scaler.fit_transform(X)  # DON'T DO THIS\n",
    "X_train_sc = scaler.transform(X_train)  # scale X_train\n",
    "X_test_sc = scaler.transform(X_test)  # scale X_test BASED ON X_train"
   ]
  },
  {
   "cell_type": "code",
   "execution_count": 6,
   "metadata": {},
   "outputs": [
    {
     "data": {
      "text/plain": [
       "0.7625"
      ]
     },
     "execution_count": 6,
     "metadata": {},
     "output_type": "execute_result"
    }
   ],
   "source": [
    "# Create a logistic regression object, fit it on the (scaled) training data \n",
    "# and score it on the (scaled) test data\n",
    "from sklearn.linear_model import LogisticRegression\n",
    "logreg = LogisticRegression()\n",
    "logreg.fit(X_train_sc, y_train)\n",
    "logreg.score(X_test_sc, y_test)"
   ]
  },
  {
   "cell_type": "markdown",
   "metadata": {},
   "source": [
    "## Pipelining to minimize human error\n",
    "Despite our best efforts, sometimes we make simple mistakes that introduce a bias to our classification workflow, such as z-scoring the entire dataset. One way around this is to pipeline our operations, in order to automate entire data processing flow. Scikit learn includes basic pipeline functionality for its functions."
   ]
  },
  {
   "cell_type": "code",
   "execution_count": 7,
   "metadata": {},
   "outputs": [],
   "source": [
    "# create a pipeline that scales data then trains a logistic regression classifier\n",
    "# list the steps in (name, operation) tuples\n",
    "steps = [(\"scale\", preproc.StandardScaler()), (\"logreg\", LogisticRegression())]  # could add PCA if you want\n",
    "scale_logreg = pipe.Pipeline(steps)"
   ]
  },
  {
   "cell_type": "code",
   "execution_count": 8,
   "metadata": {},
   "outputs": [
    {
     "data": {
      "text/plain": [
       "Pipeline(memory=None,\n",
       "     steps=[('scale', StandardScaler(copy=True, with_mean=True, with_std=True)), ('logreg', LogisticRegression(C=1.0, class_weight=None, dual=False, fit_intercept=True,\n",
       "          intercept_scaling=1, max_iter=100, multi_class='ovr', n_jobs=1,\n",
       "          penalty='l2', random_state=None, solver='liblinear', tol=0.0001,\n",
       "          verbose=0, warm_start=False))])"
      ]
     },
     "execution_count": 8,
     "metadata": {},
     "output_type": "execute_result"
    }
   ],
   "source": [
    "scale_logreg.fit(X_train, y_train)"
   ]
  },
  {
   "cell_type": "code",
   "execution_count": 9,
   "metadata": {},
   "outputs": [
    {
     "data": {
      "text/plain": [
       "0.7625"
      ]
     },
     "execution_count": 9,
     "metadata": {},
     "output_type": "execute_result"
    }
   ],
   "source": [
    "scale_logreg.score(X_test, y_test)"
   ]
  },
  {
   "cell_type": "markdown",
   "metadata": {},
   "source": [
    "If your entire workflow is implemented in scikit-learn, a pipeline makes cross-validation and model deployment very straightforward."
   ]
  },
  {
   "cell_type": "markdown",
   "metadata": {},
   "source": [
    "## ROC and Confusion matrices\n",
    "Accuracy is just one of many ways to assess model performance. The ROC curve and confusion matrices are popular approaches to whether classifiers are actually performing in a meaningful way or not.\n"
   ]
  },
  {
   "cell_type": "code",
   "execution_count": 10,
   "metadata": {},
   "outputs": [],
   "source": [
    "# generate your predicted labels\n",
    "predictions = scale_logreg.predict(X_test)\n",
    "# log-probabilities:\n",
    "log_likelihoods = scale_logreg.predict_log_proba(X_test)\n",
    "# probabilities:\n",
    "probabilities = scale_logreg.predict_proba(X_test)\n",
    "\n",
    "# confidence of the logistic regression \n",
    "decision_function = scale_logreg.decision_function(X_test)"
   ]
  },
  {
   "cell_type": "code",
   "execution_count": 11,
   "metadata": {},
   "outputs": [
    {
     "data": {
      "text/plain": [
       "array([[6.08490032e-02, 9.39150997e-01],\n",
       "       [3.20772554e-01, 6.79227446e-01],\n",
       "       [4.21718245e-01, 5.78281755e-01],\n",
       "       [2.05405387e-02, 9.79459461e-01],\n",
       "       [9.96322447e-01, 3.67755312e-03],\n",
       "       [9.14322529e-01, 8.56774709e-02],\n",
       "       [2.49115781e-01, 7.50884219e-01],\n",
       "       [9.62912563e-01, 3.70874369e-02],\n",
       "       [3.77631084e-01, 6.22368916e-01],\n",
       "       [7.04533472e-02, 9.29546653e-01],\n",
       "       [6.86537854e-02, 9.31346215e-01],\n",
       "       [1.43343105e-01, 8.56656895e-01],\n",
       "       [9.93058265e-01, 6.94173476e-03],\n",
       "       [6.94257013e-01, 3.05742987e-01],\n",
       "       [2.91702223e-02, 9.70829778e-01],\n",
       "       [3.68691321e-01, 6.31308679e-01],\n",
       "       [8.56512670e-01, 1.43487330e-01],\n",
       "       [2.49515154e-01, 7.50484846e-01],\n",
       "       [7.89152901e-01, 2.10847099e-01],\n",
       "       [9.52618193e-01, 4.73818069e-02],\n",
       "       [3.05944227e-02, 9.69405577e-01],\n",
       "       [8.08805959e-02, 9.19119404e-01],\n",
       "       [7.92875896e-01, 2.07124104e-01],\n",
       "       [7.23009057e-02, 9.27699094e-01],\n",
       "       [9.77730579e-01, 2.22694206e-02],\n",
       "       [5.07725801e-03, 9.94922742e-01],\n",
       "       [7.69944059e-01, 2.30055941e-01],\n",
       "       [1.06835966e-02, 9.89316403e-01],\n",
       "       [6.39644462e-01, 3.60355538e-01],\n",
       "       [9.36864153e-01, 6.31358468e-02],\n",
       "       [8.54578085e-01, 1.45421915e-01],\n",
       "       [8.49552727e-01, 1.50447273e-01],\n",
       "       [3.44888655e-02, 9.65511135e-01],\n",
       "       [1.61485397e-02, 9.83851460e-01],\n",
       "       [8.92648917e-01, 1.07351083e-01],\n",
       "       [9.84623667e-01, 1.53763331e-02],\n",
       "       [1.59310857e-01, 8.40689143e-01],\n",
       "       [3.26884888e-01, 6.73115112e-01],\n",
       "       [7.14475903e-02, 9.28552410e-01],\n",
       "       [9.97160229e-01, 2.83977116e-03],\n",
       "       [2.16259265e-01, 7.83740735e-01],\n",
       "       [2.83529893e-01, 7.16470107e-01],\n",
       "       [1.48854017e-01, 8.51145983e-01],\n",
       "       [3.82014280e-01, 6.17985720e-01],\n",
       "       [9.86818539e-01, 1.31814605e-02],\n",
       "       [8.10549681e-01, 1.89450319e-01],\n",
       "       [1.60387469e-01, 8.39612531e-01],\n",
       "       [4.36735059e-02, 9.56326494e-01],\n",
       "       [9.09322815e-02, 9.09067718e-01],\n",
       "       [4.04662740e-01, 5.95337260e-01],\n",
       "       [9.71926565e-01, 2.80734354e-02],\n",
       "       [7.38949390e-01, 2.61050610e-01],\n",
       "       [5.16200197e-01, 4.83799803e-01],\n",
       "       [5.98813810e-01, 4.01186190e-01],\n",
       "       [7.01585938e-01, 2.98414062e-01],\n",
       "       [8.76116099e-01, 1.23883901e-01],\n",
       "       [1.54916462e-01, 8.45083538e-01],\n",
       "       [6.45413952e-01, 3.54586048e-01],\n",
       "       [6.65967729e-01, 3.34032271e-01],\n",
       "       [9.62213007e-01, 3.77869933e-02],\n",
       "       [8.85909323e-01, 1.14090677e-01],\n",
       "       [1.92771720e-01, 8.07228280e-01],\n",
       "       [3.10485275e-01, 6.89514725e-01],\n",
       "       [8.66284725e-01, 1.33715275e-01],\n",
       "       [7.74990163e-01, 2.25009837e-01],\n",
       "       [9.88087538e-01, 1.19124624e-02],\n",
       "       [5.10828822e-01, 4.89171178e-01],\n",
       "       [7.72817638e-01, 2.27182362e-01],\n",
       "       [8.51885963e-01, 1.48114037e-01],\n",
       "       [1.06116120e-02, 9.89388388e-01],\n",
       "       [7.95708560e-02, 9.20429144e-01],\n",
       "       [6.75653256e-01, 3.24346744e-01],\n",
       "       [3.68946527e-01, 6.31053473e-01],\n",
       "       [8.35337797e-01, 1.64662203e-01],\n",
       "       [4.13388436e-01, 5.86611564e-01],\n",
       "       [9.83927497e-01, 1.60725026e-02],\n",
       "       [9.88065460e-01, 1.19345398e-02],\n",
       "       [7.68911390e-01, 2.31088610e-01],\n",
       "       [7.06294542e-01, 2.93705458e-01],\n",
       "       [9.71833965e-01, 2.81660352e-02],\n",
       "       [4.40481575e-01, 5.59518425e-01],\n",
       "       [3.78445195e-01, 6.21554805e-01],\n",
       "       [6.59879554e-01, 3.40120446e-01],\n",
       "       [8.92078971e-01, 1.07921029e-01],\n",
       "       [2.20574874e-02, 9.77942513e-01],\n",
       "       [2.24104664e-03, 9.97758953e-01],\n",
       "       [3.36446963e-01, 6.63553037e-01],\n",
       "       [2.30581393e-01, 7.69418607e-01],\n",
       "       [9.40182515e-01, 5.98174853e-02],\n",
       "       [7.28720795e-01, 2.71279205e-01],\n",
       "       [4.52423833e-01, 5.47576167e-01],\n",
       "       [1.42977134e-01, 8.57022866e-01],\n",
       "       [5.29601720e-02, 9.47039828e-01],\n",
       "       [9.48522490e-01, 5.14775101e-02],\n",
       "       [3.43316336e-01, 6.56683664e-01],\n",
       "       [1.51191521e-01, 8.48808479e-01],\n",
       "       [9.60401963e-01, 3.95980375e-02],\n",
       "       [5.26163384e-01, 4.73836616e-01],\n",
       "       [9.85684789e-01, 1.43152114e-02],\n",
       "       [6.63165207e-01, 3.36834793e-01],\n",
       "       [5.31930564e-01, 4.68069436e-01],\n",
       "       [4.79912389e-01, 5.20087611e-01],\n",
       "       [9.49345443e-01, 5.06545570e-02],\n",
       "       [5.44003465e-01, 4.55996535e-01],\n",
       "       [5.45034257e-01, 4.54965743e-01],\n",
       "       [1.42659958e-01, 8.57340042e-01],\n",
       "       [1.83936251e-01, 8.16063749e-01],\n",
       "       [9.73221759e-01, 2.67782410e-02],\n",
       "       [9.57132508e-01, 4.28674923e-02],\n",
       "       [7.13271593e-01, 2.86728407e-01],\n",
       "       [8.19071533e-01, 1.80928467e-01],\n",
       "       [4.44537279e-01, 5.55462721e-01],\n",
       "       [9.60756586e-01, 3.92434137e-02],\n",
       "       [5.57379597e-02, 9.44262040e-01],\n",
       "       [9.53822929e-01, 4.61770710e-02],\n",
       "       [1.69789893e-01, 8.30210107e-01],\n",
       "       [2.30958138e-01, 7.69041862e-01],\n",
       "       [9.04081543e-01, 9.59184568e-02],\n",
       "       [3.25148589e-01, 6.74851411e-01],\n",
       "       [4.81228270e-01, 5.18771730e-01],\n",
       "       [8.83370716e-01, 1.16629284e-01],\n",
       "       [3.58875398e-01, 6.41124602e-01],\n",
       "       [8.46235900e-01, 1.53764100e-01],\n",
       "       [8.84252909e-01, 1.15747091e-01],\n",
       "       [3.82964265e-01, 6.17035735e-01],\n",
       "       [8.88444246e-01, 1.11555754e-01],\n",
       "       [9.42290572e-01, 5.77094281e-02],\n",
       "       [1.09353938e-01, 8.90646062e-01],\n",
       "       [4.92637213e-01, 5.07362787e-01],\n",
       "       [9.69648705e-01, 3.03512950e-02],\n",
       "       [9.93903907e-01, 6.09609307e-03],\n",
       "       [1.44327036e-01, 8.55672964e-01],\n",
       "       [5.84425547e-01, 4.15574453e-01],\n",
       "       [9.92264667e-01, 7.73533275e-03],\n",
       "       [9.91621294e-01, 8.37870562e-03],\n",
       "       [8.36335429e-01, 1.63664571e-01],\n",
       "       [5.06339685e-01, 4.93660315e-01],\n",
       "       [9.85516752e-01, 1.44832484e-02],\n",
       "       [9.50287752e-01, 4.97122477e-02],\n",
       "       [3.28487239e-02, 9.67151276e-01],\n",
       "       [3.63448895e-02, 9.63655111e-01],\n",
       "       [9.98765403e-01, 1.23459730e-03],\n",
       "       [4.75512529e-01, 5.24487471e-01],\n",
       "       [9.92746423e-01, 7.25357743e-03],\n",
       "       [9.53235811e-01, 4.67641893e-02],\n",
       "       [2.15779333e-02, 9.78422067e-01],\n",
       "       [8.25003350e-01, 1.74996650e-01],\n",
       "       [9.84962894e-01, 1.50371056e-02],\n",
       "       [2.51124652e-01, 7.48875348e-01],\n",
       "       [9.58520076e-01, 4.14799238e-02],\n",
       "       [1.10621257e-01, 8.89378743e-01],\n",
       "       [4.99189020e-01, 5.00810980e-01],\n",
       "       [8.32264638e-01, 1.67735362e-01],\n",
       "       [2.20179797e-02, 9.77982020e-01],\n",
       "       [1.45877922e-01, 8.54122078e-01],\n",
       "       [3.01639002e-02, 9.69836100e-01],\n",
       "       [9.99761481e-01, 2.38519177e-04],\n",
       "       [9.04813681e-01, 9.51863192e-02],\n",
       "       [9.99117377e-01, 8.82622591e-04],\n",
       "       [4.30827107e-01, 5.69172893e-01],\n",
       "       [3.77730372e-01, 6.22269628e-01],\n",
       "       [3.50684848e-02, 9.64931515e-01],\n",
       "       [1.97393428e-01, 8.02606572e-01],\n",
       "       [7.61251094e-01, 2.38748906e-01],\n",
       "       [6.69422128e-01, 3.30577872e-01],\n",
       "       [3.57494200e-02, 9.64250580e-01],\n",
       "       [5.02917777e-01, 4.97082223e-01],\n",
       "       [6.70879207e-01, 3.29120793e-01],\n",
       "       [1.42659769e-01, 8.57340231e-01],\n",
       "       [4.91573047e-01, 5.08426953e-01],\n",
       "       [9.38088880e-01, 6.19111199e-02],\n",
       "       [9.37664587e-01, 6.23354127e-02],\n",
       "       [8.00678451e-01, 1.99321549e-01],\n",
       "       [2.13655562e-02, 9.78634444e-01],\n",
       "       [8.17780035e-03, 9.91822200e-01],\n",
       "       [9.40234325e-01, 5.97656746e-02],\n",
       "       [7.66404222e-02, 9.23359578e-01],\n",
       "       [1.05208594e-01, 8.94791406e-01],\n",
       "       [3.00419721e-01, 6.99580279e-01],\n",
       "       [6.72064700e-01, 3.27935300e-01],\n",
       "       [3.63877799e-01, 6.36122201e-01],\n",
       "       [1.11398380e-02, 9.88860162e-01],\n",
       "       [2.14339216e-01, 7.85660784e-01],\n",
       "       [3.10298635e-02, 9.68970136e-01],\n",
       "       [7.05554085e-02, 9.29444591e-01],\n",
       "       [4.96936212e-01, 5.03063788e-01],\n",
       "       [9.72090220e-01, 2.79097796e-02],\n",
       "       [3.90009174e-01, 6.09990826e-01],\n",
       "       [5.52690675e-02, 9.44730933e-01],\n",
       "       [9.80703872e-01, 1.92961280e-02],\n",
       "       [6.93641920e-01, 3.06358080e-01],\n",
       "       [8.38470421e-02, 9.16152958e-01],\n",
       "       [1.53962002e-01, 8.46037998e-01],\n",
       "       [1.16555718e-01, 8.83444282e-01],\n",
       "       [8.23858569e-01, 1.76141431e-01],\n",
       "       [9.98789260e-01, 1.21073985e-03],\n",
       "       [5.24867664e-01, 4.75132336e-01],\n",
       "       [1.54392455e-01, 8.45607545e-01],\n",
       "       [1.31233993e-02, 9.86876601e-01],\n",
       "       [3.25447075e-01, 6.74552925e-01],\n",
       "       [1.20002392e-01, 8.79997608e-01],\n",
       "       [9.48860002e-01, 5.11399982e-02],\n",
       "       [6.01205746e-01, 3.98794254e-01],\n",
       "       [3.57230167e-01, 6.42769833e-01],\n",
       "       [5.55863793e-01, 4.44136207e-01],\n",
       "       [9.99660263e-01, 3.39736837e-04],\n",
       "       [9.71201423e-01, 2.87985769e-02],\n",
       "       [9.76142065e-01, 2.38579352e-02],\n",
       "       [3.67786345e-01, 6.32213655e-01],\n",
       "       [1.21040395e-01, 8.78959605e-01],\n",
       "       [1.39830413e-01, 8.60169587e-01],\n",
       "       [1.20200598e-02, 9.87979940e-01],\n",
       "       [1.18022710e-01, 8.81977290e-01],\n",
       "       [6.67934033e-01, 3.32065967e-01],\n",
       "       [9.68459463e-01, 3.15405372e-02],\n",
       "       [7.24855009e-01, 2.75144991e-01],\n",
       "       [4.23470674e-01, 5.76529326e-01],\n",
       "       [5.15287550e-01, 4.84712450e-01],\n",
       "       [9.90449580e-01, 9.55042026e-03],\n",
       "       [4.84154931e-01, 5.15845069e-01],\n",
       "       [9.01947836e-01, 9.80521637e-02],\n",
       "       [9.50488212e-01, 4.95117878e-02],\n",
       "       [5.05255162e-02, 9.49474484e-01],\n",
       "       [9.64539845e-01, 3.54601553e-02],\n",
       "       [1.30629542e-02, 9.86937046e-01],\n",
       "       [3.63441882e-01, 6.36558118e-01],\n",
       "       [9.33945311e-01, 6.60546892e-02],\n",
       "       [8.55274845e-01, 1.44725155e-01],\n",
       "       [2.71833942e-02, 9.72816606e-01],\n",
       "       [4.99854710e-01, 5.00145290e-01],\n",
       "       [7.91001480e-01, 2.08998520e-01],\n",
       "       [6.08227794e-02, 9.39177221e-01],\n",
       "       [3.85239690e-02, 9.61476031e-01],\n",
       "       [7.44322713e-01, 2.55677287e-01],\n",
       "       [9.91016216e-01, 8.98378359e-03],\n",
       "       [3.76384693e-02, 9.62361531e-01],\n",
       "       [8.49977531e-01, 1.50022469e-01],\n",
       "       [9.72728580e-01, 2.72714200e-02],\n",
       "       [1.26229446e-02, 9.87377055e-01],\n",
       "       [6.77926062e-01, 3.22073938e-01]])"
      ]
     },
     "execution_count": 11,
     "metadata": {},
     "output_type": "execute_result"
    }
   ],
   "source": [
    "probabilities"
   ]
  },
  {
   "cell_type": "code",
   "execution_count": 12,
   "metadata": {},
   "outputs": [],
   "source": [
    "decisions = np.argmax(probabilities, axis=1)  # select the larger column\n",
    "# Check if decisions lines up with predictions"
   ]
  },
  {
   "cell_type": "code",
   "execution_count": 13,
   "metadata": {},
   "outputs": [
    {
     "data": {
      "text/plain": [
       "True"
      ]
     },
     "execution_count": 13,
     "metadata": {},
     "output_type": "execute_result"
    }
   ],
   "source": [
    "np.all(decisions==predictions)"
   ]
  },
  {
   "cell_type": "code",
   "execution_count": 14,
   "metadata": {},
   "outputs": [
    {
     "name": "stdout",
     "output_type": "stream",
     "text": [
      "Training accuracy: 0.8395833333333333\n",
      "Testing accuracy: 0.7625\n"
     ]
    },
    {
     "data": {
      "image/png": "[encoded data removed]",
      "text/plain": [
       "<matplotlib.figure.Figure at 0x10e65f048>"
      ]
     },
     "metadata": {},
     "output_type": "display_data"
    }
   ],
   "source": [
    "f, axarr = plt.subplots(2, figsize=(8,8))\n",
    "axarr[0].scatter(X_test[:, 0], predictions, marker='.', c=cmap(y_test))\n",
    "axarr[0].set_ylabel('Predicted Class')\n",
    "# logreg.decision_function(x)\n",
    "axarr[1].scatter(X_test[:, 0], decision_function, marker='.', c=cmap(y_test))\n",
    "axarr[1].plot([-6,6], [logreg.intercept_, logreg.intercept_], color='navy', lw=1, linestyle='--')\n",
    "axarr[1].set_ylabel('Log odds')\n",
    "\n",
    "print(\"Training accuracy: \" + str(scale_logreg.score(X_train, y_train)))\n",
    "print(\"Testing accuracy: \" + str(scale_logreg.score(X_test, y_test)))"
   ]
  },
  {
   "cell_type": "code",
   "execution_count": 15,
   "metadata": {},
   "outputs": [
    {
     "name": "stdout",
     "output_type": "stream",
     "text": [
      "FPR : [0.         0.23622047 1.        ] \n",
      "TPR : [0.         0.76106195 1.        ] \n",
      "Thr : [2 1 0]\n",
      "0.7624207372308549\n"
     ]
    },
    {
     "data": {
      "image/png": "[encoded data removed]",
      "text/plain": [
       "<matplotlib.figure.Figure at 0x10a9beef0>"
      ]
     },
     "metadata": {},
     "output_type": "display_data"
    }
   ],
   "source": [
    "fpr, tpr, thr = metrics.roc_curve(y_test, predictions)\n",
    "print(\"FPR : {} \\nTPR : {} \\nThr : {}\".format(fpr, tpr, thr))\n",
    "plt.plot(fpr, tpr, 'ro-', lw=1)\n",
    "plt.plot([0, 1], [0, 1], color='navy', lw=1, linestyle='--')\n",
    "plt.ylabel('Sklearn ROC')\n",
    "\n",
    "print(metrics.roc_auc_score(y_test, predictions))"
   ]
  },
  {
   "cell_type": "code",
   "execution_count": 16,
   "metadata": {},
   "outputs": [
    {
     "name": "stdout",
     "output_type": "stream",
     "text": [
      "[[97 30]\n",
      " [27 86]]\n"
     ]
    },
    {
     "data": {
      "image/png": "[encoded data removed]",
      "text/plain": [
       "<matplotlib.figure.Figure at 0x10c0b1ef0>"
      ]
     },
     "metadata": {},
     "output_type": "display_data"
    }
   ],
   "source": [
    "# Rows: Predicted\n",
    "# Columns: Actual\n",
    "conf_mat = metrics.confusion_matrix(y_test, predictions)\n",
    "plt.imshow(conf_mat)\n",
    "plt.colorbar()\n",
    "print(metrics.confusion_matrix(y_test, predictions))"
   ]
  },
  {
   "cell_type": "markdown",
   "metadata": {},
   "source": [
    "## Why ROC?\n",
    "\n",
    "This is a very common scenario that will occur when you are assessing model performance. Run the above procedure on the dataset below:"
   ]
  },
  {
   "cell_type": "code",
   "execution_count": 17,
   "metadata": {},
   "outputs": [],
   "source": [
    "import pandas as pd\n",
    "ds = pd.read_csv(\"roc_data.csv\")"
   ]
  },
  {
   "cell_type": "code",
   "execution_count": 18,
   "metadata": {},
   "outputs": [],
   "source": [
    "y = ds.iloc[:, 0]\n",
    "X = ds.iloc[:, 1:]\n",
    "X_train, X_test, y_train, y_test = ms.train_test_split(X, y, test_size=0.2)"
   ]
  },
  {
   "cell_type": "code",
   "execution_count": 19,
   "metadata": {},
   "outputs": [],
   "source": [
    "scale_logreg.fit(X_train, y_train)\n",
    "predictions = scale_logreg.predict(X_test)"
   ]
  },
  {
   "cell_type": "code",
   "execution_count": 20,
   "metadata": {},
   "outputs": [
    {
     "name": "stdout",
     "output_type": "stream",
     "text": [
      "Training accuracy: 0.9526515151515151\n",
      "Testing accuracy: 0.803030303030303\n"
     ]
    },
    {
     "data": {
      "image/png": "[encoded data removed]",
      "text/plain": [
       "<matplotlib.figure.Figure at 0x10f42a630>"
      ]
     },
     "metadata": {},
     "output_type": "display_data"
    }
   ],
   "source": [
    "f, axarr = plt.subplots(2, figsize=(8,8))\n",
    "axarr[0].scatter(X_test.iloc[:, 0], predictions, marker='.', c=cmap(y_test))\n",
    "axarr[0].set_ylabel('Predicted')\n",
    "# logreg.decision_function(x)\n",
    "axarr[1].scatter(X_test.iloc[:, 0], scale_logreg.decision_function(X_test)\n",
    "                 , marker='.', c=cmap(y_test))\n",
    "axarr[1].plot([-6,6], [logreg.intercept_, logreg.intercept_], color='navy', lw=1, linestyle='--')\n",
    "axarr[1].set_ylabel('Log odds')\n",
    "\n",
    "print(\"Training accuracy: \" + str(scale_logreg.score(X_train, y_train)))\n",
    "print(\"Testing accuracy: \" + str(scale_logreg.score(X_test, y_test)))"
   ]
  },
  {
   "cell_type": "code",
   "execution_count": 21,
   "metadata": {},
   "outputs": [
    {
     "name": "stdout",
     "output_type": "stream",
     "text": [
      "THR: [2. 1. 0.]\n",
      "FPR: [0. 1. 1.]\n",
      "TPR: [0.         0.92173913 1.        ]\n"
     ]
    },
    {
     "data": {
      "text/plain": [
       "Text(0,0.5,'Sklearn ROC')"
      ]
     },
     "execution_count": 21,
     "metadata": {},
     "output_type": "execute_result"
    },
    {
     "data": {
      "image/png": "[encoded data removed]",
      "text/plain": [
       "<matplotlib.figure.Figure at 0x10f418c18>"
      ]
     },
     "metadata": {},
     "output_type": "display_data"
    }
   ],
   "source": [
    "fpr, tpr, thr = metrics.roc_curve(y_test, predictions)\n",
    "print(\"THR: {}\\nFPR: {}\\nTPR: {}\".format(thr, fpr, tpr))\n",
    "plt.plot(fpr, tpr, 'ro-', lw=1)\n",
    "plt.plot([0, 1], [0, 1], color='navy', lw=1, linestyle='--')\n",
    "plt.ylabel('Sklearn ROC')"
   ]
  },
  {
   "cell_type": "code",
   "execution_count": 22,
   "metadata": {},
   "outputs": [
    {
     "name": "stdout",
     "output_type": "stream",
     "text": [
      "[[  0  17]\n",
      " [  9 106]]\n"
     ]
    },
    {
     "data": {
      "image/png": "[encoded data removed]",
      "text/plain": [
       "<matplotlib.figure.Figure at 0x10f42a5c0>"
      ]
     },
     "metadata": {},
     "output_type": "display_data"
    }
   ],
   "source": [
    "conf_mat = metrics.confusion_matrix(y_test, predictions)\n",
    "plt.imshow(conf_mat)\n",
    "plt.colorbar()\n",
    "print(metrics.confusion_matrix(y_test, predictions))"
   ]
  },
  {
   "cell_type": "markdown",
   "metadata": {},
   "source": [
    "What do you think happened and why?"
   ]
  },
  {
   "cell_type": "code",
   "execution_count": null,
   "metadata": {},
   "outputs": [],
   "source": []
  }
 ],
 "metadata": {
  "kernelspec": {
   "display_name": "teaching",
   "language": "python",
   "name": "teaching"
  },
  "language_info": {
   "codemirror_mode": {
    "name": "ipython",
    "version": 3
   },
   "file_extension": ".py",
   "mimetype": "text/x-python",
   "name": "python",
   "nbconvert_exporter": "python",
   "pygments_lexer": "ipython3",
   "version": "3.6.4"
  }
 },
 "nbformat": 4,
 "nbformat_minor": 1
}
